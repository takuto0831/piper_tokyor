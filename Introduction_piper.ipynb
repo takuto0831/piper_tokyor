{
 "cells": [
  {
   "cell_type": "markdown",
   "metadata": {},
   "source": [
    "# 設定"
   ]
  },
  {
   "cell_type": "code",
   "execution_count": 1,
   "metadata": {},
   "outputs": [],
   "source": [
    "import numpy as np\n",
    "import pandas as pd\n",
    "import pyper\n",
    "import matplotlib.pyplot as plt\n",
    "import time\n",
    "from IPython.display import display\n",
    "from contextlib import contextmanager"
   ]
  },
  {
   "cell_type": "code",
   "execution_count": 2,
   "metadata": {},
   "outputs": [],
   "source": [
    "# 時間計測関数\n",
    "@contextmanager\n",
    "def timer(name):\n",
    "    t0 = time.time()\n",
    "    yield\n",
    "    print(f'[{name}] done in {time.time() - t0:.0f} s')"
   ]
  },
  {
   "cell_type": "markdown",
   "metadata": {},
   "source": [
    "# pyperの使い方"
   ]
  },
  {
   "cell_type": "code",
   "execution_count": 11,
   "metadata": {},
   "outputs": [
    {
     "name": "stdout",
     "output_type": "stream",
     "text": [
      "try({a})\n",
      "[1] 5\n",
      "\n",
      "try({a + b})\n",
      "[1] 15\n",
      "\n",
      "15\n"
     ]
    }
   ],
   "source": [
    "r = pyper.R()\n",
    "r(\"a <- 5\")\n",
    "print(r(\"a\"))\n",
    "# 結果\n",
    "# try({a})\n",
    "# [1] 5\n",
    "\n",
    "r(\"b <- 10\")\n",
    "print(r(\"a + b\"))\n",
    "# 結果\n",
    "# try({a + b})\n",
    "# [1] 15"
   ]
  },
  {
   "cell_type": "markdown",
   "metadata": {},
   "source": [
    "# packageの活用"
   ]
  },
  {
   "cell_type": "code",
   "execution_count": 10,
   "metadata": {},
   "outputs": [
    {
     "name": "stdout",
     "output_type": "stream",
     "text": [
      "try({glimpse(iris)})\n",
      "Error in glimpse(iris) : \n",
      "   関数 \"glimpse\" を見つけることができませんでした \n",
      "\n"
     ]
    }
   ],
   "source": [
    "r = pyper.R()\n",
    "print(r(\"glimpse(iris)\"))\n",
    "# could not find function \"glimpse\""
   ]
  },
  {
   "cell_type": "code",
   "execution_count": 9,
   "metadata": {},
   "outputs": [
    {
     "name": "stdout",
     "output_type": "stream",
     "text": [
      "try({glimpse(iris)})\n",
      "Observations: 150\n",
      "Variables: 5\n",
      "$ Sepal.Length <dbl> 5.1, 4.9, 4.7, 4.6, 5.0, 5.4, 4.6, 5.0, 4.4, 4.9, 5.4, …\n",
      "$ Sepal.Width  <dbl> 3.5, 3.0, 3.2, 3.1, 3.6, 3.9, 3.4, 3.4, 2.9, 3.1, 3.7, …\n",
      "$ Petal.Length <dbl> 1.4, 1.4, 1.3, 1.5, 1.4, 1.7, 1.4, 1.5, 1.4, 1.5, 1.5, …\n",
      "$ Petal.Width  <dbl> 0.2, 0.2, 0.2, 0.2, 0.2, 0.4, 0.3, 0.2, 0.2, 0.1, 0.2, …\n",
      "$ Species      <fct> setosa, setosa, setosa, setosa, setosa, setosa, setosa,…\n",
      "\n",
      "try({iris %>% glimpse})\n",
      "Observations: 150\n",
      "Variables: 5\n",
      "$ Sepal.Length <dbl> 5.1, 4.9, 4.7, 4.6, 5.0, 5.4, 4.6, 5.0, 4.4, 4.9, 5.4, …\n",
      "$ Sepal.Width  <dbl> 3.5, 3.0, 3.2, 3.1, 3.6, 3.9, 3.4, 3.4, 2.9, 3.1, 3.7, …\n",
      "$ Petal.Length <dbl> 1.4, 1.4, 1.3, 1.5, 1.4, 1.7, 1.4, 1.5, 1.4, 1.5, 1.5, …\n",
      "$ Petal.Width  <dbl> 0.2, 0.2, 0.2, 0.2, 0.2, 0.4, 0.3, 0.2, 0.2, 0.1, 0.2, …\n",
      "$ Species      <fct> setosa, setosa, setosa, setosa, setosa, setosa, setosa,…\n",
      "\n"
     ]
    }
   ],
   "source": [
    "r = pyper.R()\n",
    "r(\"library(tidyverse)\")\n",
    "print(r(\"glimpse(iris)\"))\n",
    "# try({glimpse(iris)})\n",
    "\n",
    "print(r(\"iris %>% glimpse\"))\n",
    "# try({iris %>% glimpse})"
   ]
  },
  {
   "cell_type": "markdown",
   "metadata": {},
   "source": [
    "# pandas, numpy の連携"
   ]
  },
  {
   "cell_type": "code",
   "execution_count": 7,
   "metadata": {},
   "outputs": [
    {
     "name": "stdout",
     "output_type": "stream",
     "text": [
      "try({summary(p_df)})\n",
      "       X               Y           \n",
      " Min.   : 2.00   Min.   :-11.7919  \n",
      " 1st Qu.: 8.00   1st Qu.: -3.8737  \n",
      " Median :10.00   Median : -0.2811  \n",
      " Mean   : 9.94   Mean   : -0.1942  \n",
      " 3rd Qu.:12.00   3rd Qu.:  3.5372  \n",
      " Max.   :20.00   Max.   : 16.6708  \n",
      "\n"
     ]
    }
   ],
   "source": [
    "# random generate\n",
    "n = 300\n",
    "x = np.random.poisson(10, n) \n",
    "y = np.random.normal(0, 5, n) \n",
    "# dataFrame\n",
    "df = pd.DataFrame({\"X\":x, \"Y\":y})\n",
    "r = pyper.R(use_pandas='True')\n",
    "r.assign(\"p_df\", df)\n",
    "print(r(\"summary(p_df)\"))"
   ]
  },
  {
   "cell_type": "code",
   "execution_count": 53,
   "metadata": {},
   "outputs": [
    {
     "data": {
      "image/png": "[encoded data removed]",
      "text/plain": [
       "<Figure size 432x288 with 1 Axes>"
      ]
     },
     "metadata": {
      "needs_background": "light"
     },
     "output_type": "display_data"
    }
   ],
   "source": [
    "r = pyper.R()\n",
    "r(\"rx <- rexp(300,1)\")\n",
    "r(\"rdf <- data.frame(x = 1:200, y = rnorm(200))\")\n",
    "\n",
    "px = r.get(\"rx\")\n",
    "pdf = r.get(\"rdf\")\n",
    "plt.hist(px, bins=20)\n",
    "plt.ylabel(\"freq\")\n",
    "plt.show()"
   ]
  },
  {
   "cell_type": "code",
   "execution_count": 55,
   "metadata": {},
   "outputs": [
    {
     "name": "stdout",
     "output_type": "stream",
     "text": [
      "Index([' x ', ' y '], dtype='object')\n",
      "Index(['x', 'y'], dtype='object')\n"
     ]
    }
   ],
   "source": [
    "print(pdf.columns)\n",
    "pdf.columns = pdf.columns.str.replace(' ', '')\n",
    "print(pdf.columns)\n",
    "Index(['x', 'y'], dtype='object')"
   ]
  },
  {
   "cell_type": "markdown",
   "metadata": {},
   "source": [
    "# ユーザ自作関数"
   ]
  },
  {
   "cell_type": "code",
   "execution_count": 56,
   "metadata": {},
   "outputs": [
    {
     "name": "stdout",
     "output_type": "stream",
     "text": [
      "try({shape_data(iris)})\n",
      "[1] \"データは150行, 5列です!!\"\n",
      "\n"
     ]
    }
   ],
   "source": [
    "r = pyper.R(use_pandas='True')\n",
    "r(\"source('~/Desktop/TokyoR/script/function.R', echo=FALSE)\")\n",
    "print(r(\"shape_data(iris)\"))"
   ]
  },
  {
   "cell_type": "code",
   "execution_count": 67,
   "metadata": {},
   "outputs": [
    {
     "name": "stdout",
     "output_type": "stream",
     "text": [
      "try({shape_data(p_iris)})\n",
      "[1] \"データは150行, 4列です!!\"\n",
      "\n"
     ]
    }
   ],
   "source": [
    "from sklearn.datasets import load_iris\n",
    "iris = load_iris()\n",
    "iris = pd.DataFrame(data=iris.data, columns=iris.feature_names)\n",
    "r.assign(\"p_iris\", iris)\n",
    "print(r(\"shape_data(p_iris)\"))"
   ]
  },
  {
   "cell_type": "markdown",
   "metadata": {},
   "source": [
    "# 実践1"
   ]
  },
  {
   "cell_type": "code",
   "execution_count": 71,
   "metadata": {},
   "outputs": [],
   "source": [
    "def view_data(data):\n",
    "    r = pyper.R(use_pandas='True')\n",
    "    r(\"source('~/Desktop/TokyoR/script/function.R', echo=FALSE)\")\n",
    "    r.assign(\"p_data\", data)\n",
    "    print(r(\"view_data(p_data)\"))"
   ]
  },
  {
   "cell_type": "code",
   "execution_count": 72,
   "metadata": {},
   "outputs": [
    {
     "name": "stdout",
     "output_type": "stream",
     "text": [
      "try({view_data(p_data)})\n",
      "[1] \"use skim function\"\n",
      "Skim summary statistics  \n",
      " n obs: 150    \n",
      " n variables: 4    \n",
      "\n",
      "Variable type: numeric\n",
      "\n",
      "|     variable      | missing | complete |  n  | mean |  sd  | p0  | p25 | p50  | p75 | p100 |   hist   |\n",
      "|-------------------|---------|----------|-----|------|------|-----|-----|------|-----|------|----------|\n",
      "| petal.length..cm. |    0    |   150    | 150 | 3.76 | 1.77 |  1  | 1.6 | 4.35 | 5.1 | 6.9  | ▇▁▁▂▅▅▃▁ |\n",
      "| petal.width..cm.  |    0    |   150    | 150 | 1.2  | 0.76 | 0.1 | 0.3 | 1.3  | 1.8 | 2.5  | ▇▁▁▅▃▃▂▂ |\n",
      "| sepal.length..cm. |    0    |   150    | 150 | 5.84 | 0.83 | 4.3 | 5.1 | 5.8  | 6.4 | 7.9  | ▂▇▅▇▆▅▂▂ |\n",
      "| sepal.width..cm.  |    0    |   150    | 150 | 3.06 | 0.44 |  2  | 2.8 |  3   | 3.3 | 4.4  | ▁▂▅▇▃▂▁▁ |\n",
      "[1] \"use glimpse function\"\n",
      "Observations: 150\n",
      "Variables: 4\n",
      "$ sepal.length..cm. <dbl> 5.1, 4.9, 4.7, 4.6, 5.0, 5.4, 4.6, 5.0, 4.4, 4.9, …\n",
      "$ sepal.width..cm.  <dbl> 3.5, 3.0, 3.2, 3.1, 3.6, 3.9, 3.4, 3.4, 2.9, 3.1, …\n",
      "$ petal.length..cm. <dbl> 1.4, 1.4, 1.3, 1.5, 1.4, 1.7, 1.4, 1.5, 1.4, 1.5, …\n",
      "$ petal.width..cm.  <dbl> 0.2, 0.2, 0.2, 0.2, 0.2, 0.4, 0.3, 0.2, 0.2, 0.1, …\n",
      "\n"
     ]
    }
   ],
   "source": [
    "view_data(iris)"
   ]
  },
  {
   "cell_type": "markdown",
   "metadata": {},
   "source": [
    "# 実践2"
   ]
  },
  {
   "cell_type": "code",
   "execution_count": 3,
   "metadata": {},
   "outputs": [
    {
     "data": {
      "text/plain": [
       "'try({df3 <- fun(10000000)})\\n'"
      ]
     },
     "execution_count": 3,
     "metadata": {},
     "output_type": "execute_result"
    }
   ],
   "source": [
    "r = pyper.R()\n",
    "r(\"source('~/Desktop/TokyoR/script/datasize.R', echo=FALSE)\")\n",
    "r(\"df1 <- fun(1000)\")\n",
    "r(\"df2 <- fun(100000)\")\n",
    "r(\"df3 <- fun(10000000)\")"
   ]
  },
  {
   "cell_type": "code",
   "execution_count": 4,
   "metadata": {},
   "outputs": [
    {
     "name": "stdout",
     "output_type": "stream",
     "text": [
      "[test] done in 0 s\n",
      "[test] done in 10 s\n"
     ]
    }
   ],
   "source": [
    "# 実行時間\n",
    "with timer('test'):\n",
    "    df1 = r.get(\"df1\")\n",
    "with timer('test'):\n",
    "    df2 = r.get(\"df2\")\n",
    "# with timer('test'):\n",
    "#   df3 = r.get(\"df3\")"
   ]
  },
  {
   "cell_type": "code",
   "execution_count": 5,
   "metadata": {},
   "outputs": [
    {
     "name": "stdout",
     "output_type": "stream",
     "text": [
      "(1000, 8)\n",
      "(100000, 8)\n"
     ]
    }
   ],
   "source": [
    "print(df1.shape)\n",
    "print(df2.shape)"
   ]
  },
  {
   "cell_type": "code",
   "execution_count": 6,
   "metadata": {},
   "outputs": [
    {
     "data": {
      "text/plain": [
       "'try({df3_hat <- down_memory(df3)})\\n'"
      ]
     },
     "execution_count": 6,
     "metadata": {},
     "output_type": "execute_result"
    }
   ],
   "source": [
    "# メモリ省略\n",
    "r(\"df1_hat <- down_memory(df1)\")\n",
    "r(\"df2_hat <- down_memory(df2)\")\n",
    "r(\"df3_hat <- down_memory(df3)\")"
   ]
  },
  {
   "cell_type": "code",
   "execution_count": 8,
   "metadata": {},
   "outputs": [
    {
     "name": "stdout",
     "output_type": "stream",
     "text": [
      "[test] done in 119 s\n"
     ]
    }
   ],
   "source": [
    "# 実行時間\n",
    "with timer('test'):\n",
    "    df1_ = r.get(\"df1_hat\")"
   ]
  },
  {
   "cell_type": "code",
   "execution_count": 103,
   "metadata": {},
   "outputs": [
    {
     "data": {
      "text/plain": [
       "{'aaa': array([     1,      2,      3, ...,  99998,  99999, 100000]),\n",
       " 'bbb': array([110000, 110000, 110000, ..., 110000, 110000, 110000]),\n",
       " 'ccc': array([1100000, 1100000, 1100000, ..., 1100000, 1100000, 1100000]),\n",
       " 'ddd': array([0, 0, 0, ..., 0, 0, 0]),\n",
       " 'eee': array([-245508.34350546,   58936.64351115,  -59155.94769084, ...,\n",
       "         -10442.52338502,   55147.82477954,  -94523.43059283]),\n",
       " 'fff': array([3.20028906233791e-37, 9.70561686217147e+70, 71709463980.0396, ...,\n",
       "        0.0170045202706672, 1.98960128491305e-73, 6.46230526717732e+37],\n",
       "       dtype=object),\n",
       " 'ggg': array(['Rl6jfGCDTj', 'AepsZ0ixhy', 'bd1DNwoqlv', ..., 'Y6X44FqhJ5',\n",
       "        'ghRAvpA3hO', 'TjcSB7UPxn'], dtype='<U10'),\n",
       " 'hhh': array(['2018-03-07', '2018-03-08', '2018-03-09', ..., '2291-12-18',\n",
       "        '2291-12-19', '2291-12-20'], dtype='<U10')}"
      ]
     },
     "execution_count": 103,
     "metadata": {},
     "output_type": "execute_result"
    }
   ],
   "source": [
    "with timer('test'):\n",
    "    df2_ = r.get(\"df2_\")"
   ]
  },
  {
   "cell_type": "code",
   "execution_count": null,
   "metadata": {},
   "outputs": [],
   "source": [
    "with timer('test'):\n",
    "    df3_ = r.get(\"df3_\")"
   ]
  },
  {
   "cell_type": "code",
   "execution_count": 9,
   "metadata": {},
   "outputs": [],
   "source": [
    "df1_\n",
    "# print(df2_.shape)"
   ]
  },
  {
   "cell_type": "code",
   "execution_count": null,
   "metadata": {},
   "outputs": [],
   "source": []
  }
 ],
 "metadata": {
  "kernelspec": {
   "display_name": "py37",
   "language": "python",
   "name": "py37"
  },
  "language_info": {
   "codemirror_mode": {
    "name": "ipython",
    "version": 3
   },
   "file_extension": ".py",
   "mimetype": "text/x-python",
   "name": "python",
   "nbconvert_exporter": "python",
   "pygments_lexer": "ipython3",
   "version": "3.7.1"
  },
  "toc": {
   "base_numbering": 1,
   "nav_menu": {},
   "number_sections": true,
   "sideBar": true,
   "skip_h1_title": false,
   "title_cell": "Table of Contents",
   "title_sidebar": "Contents",
   "toc_cell": false,
   "toc_position": {},
   "toc_section_display": true,
   "toc_window_display": false
  }
 },
 "nbformat": 4,
 "nbformat_minor": 2
}
