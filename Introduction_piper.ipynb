{
 "cells": [
  {
   "cell_type": "markdown",
   "metadata": {},
   "source": [
    "# 設定"
   ]
  },
  {
   "cell_type": "code",
   "execution_count": 1,
   "metadata": {},
   "outputs": [],
   "source": [
    "import numpy as np\n",
    "import pandas as pd\n",
    "import pyper\n",
    "import time\n",
    "from IPython.display import display\n",
    "from contextlib import contextmanager"
   ]
  },
  {
   "cell_type": "code",
   "execution_count": 2,
   "metadata": {},
   "outputs": [],
   "source": [
    "# 時間計測関数\n",
    "@contextmanager\n",
    "def timer(name):\n",
    "    t0 = time.time()\n",
    "    yield\n",
    "    print(f'[{name}] done in {time.time() - t0:.0f} s')"
   ]
  },
  {
   "cell_type": "code",
   "execution_count": 17,
   "metadata": {},
   "outputs": [
    {
     "name": "stdout",
     "output_type": "stream",
     "text": [
      "[test] done in 5 s\n"
     ]
    }
   ],
   "source": [
    "with timer('test'):\n",
    "    time.sleep(5)"
   ]
  },
  {
   "cell_type": "markdown",
   "metadata": {},
   "source": [
    "# pyperの使い方"
   ]
  },
  {
   "cell_type": "code",
   "execution_count": 11,
   "metadata": {},
   "outputs": [
    {
     "name": "stdout",
     "output_type": "stream",
     "text": [
      "try({a})\n",
      "[1] 5\n",
      "\n",
      "try({a + b})\n",
      "[1] 15\n",
      "\n",
      "15\n"
     ]
    }
   ],
   "source": [
    "r = pyper.R()\n",
    "r(\"a <- 5\")\n",
    "print(r(\"a\"))\n",
    "# 結果\n",
    "# try({a})\n",
    "# [1] 5\n",
    "\n",
    "r(\"b <- 10\")\n",
    "print(r(\"a + b\"))\n",
    "# 結果\n",
    "# try({a + b})\n",
    "# [1] 15"
   ]
  },
  {
   "cell_type": "markdown",
   "metadata": {},
   "source": [
    "# packageの活用"
   ]
  },
  {
   "cell_type": "code",
   "execution_count": 10,
   "metadata": {},
   "outputs": [
    {
     "name": "stdout",
     "output_type": "stream",
     "text": [
      "try({glimpse(iris)})\n",
      "Error in glimpse(iris) : \n",
      "   関数 \"glimpse\" を見つけることができませんでした \n",
      "\n"
     ]
    }
   ],
   "source": [
    "r = pyper.R()\n",
    "print(r(\"glimpse(iris)\"))\n",
    "# could not find function \"glimpse\""
   ]
  },
  {
   "cell_type": "code",
   "execution_count": 9,
   "metadata": {},
   "outputs": [
    {
     "name": "stdout",
     "output_type": "stream",
     "text": [
      "try({glimpse(iris)})\n",
      "Observations: 150\n",
      "Variables: 5\n",
      "$ Sepal.Length <dbl> 5.1, 4.9, 4.7, 4.6, 5.0, 5.4, 4.6, 5.0, 4.4, 4.9, 5.4, …\n",
      "$ Sepal.Width  <dbl> 3.5, 3.0, 3.2, 3.1, 3.6, 3.9, 3.4, 3.4, 2.9, 3.1, 3.7, …\n",
      "$ Petal.Length <dbl> 1.4, 1.4, 1.3, 1.5, 1.4, 1.7, 1.4, 1.5, 1.4, 1.5, 1.5, …\n",
      "$ Petal.Width  <dbl> 0.2, 0.2, 0.2, 0.2, 0.2, 0.4, 0.3, 0.2, 0.2, 0.1, 0.2, …\n",
      "$ Species      <fct> setosa, setosa, setosa, setosa, setosa, setosa, setosa,…\n",
      "\n",
      "try({iris %>% glimpse})\n",
      "Observations: 150\n",
      "Variables: 5\n",
      "$ Sepal.Length <dbl> 5.1, 4.9, 4.7, 4.6, 5.0, 5.4, 4.6, 5.0, 4.4, 4.9, 5.4, …\n",
      "$ Sepal.Width  <dbl> 3.5, 3.0, 3.2, 3.1, 3.6, 3.9, 3.4, 3.4, 2.9, 3.1, 3.7, …\n",
      "$ Petal.Length <dbl> 1.4, 1.4, 1.3, 1.5, 1.4, 1.7, 1.4, 1.5, 1.4, 1.5, 1.5, …\n",
      "$ Petal.Width  <dbl> 0.2, 0.2, 0.2, 0.2, 0.2, 0.4, 0.3, 0.2, 0.2, 0.1, 0.2, …\n",
      "$ Species      <fct> setosa, setosa, setosa, setosa, setosa, setosa, setosa,…\n",
      "\n"
     ]
    }
   ],
   "source": [
    "r = pyper.R()\n",
    "r(\"library(tidyverse)\")\n",
    "print(r(\"glimpse(iris)\"))\n",
    "# try({glimpse(iris)})\n",
    "\n",
    "print(r(\"iris %>% glimpse\"))\n",
    "# try({iris %>% glimpse})"
   ]
  },
  {
   "cell_type": "markdown",
   "metadata": {},
   "source": [
    "# pandas, numpy の連携"
   ]
  },
  {
   "cell_type": "code",
   "execution_count": 14,
   "metadata": {},
   "outputs": [
    {
     "name": "stdout",
     "output_type": "stream",
     "text": [
      "try({summary(p_df)})\n",
      "       X                  Y            \n",
      " Min.   :-29.6753   Min.   :-29.80802  \n",
      " 1st Qu.: -7.0988   1st Qu.: -7.53904  \n",
      " Median : -0.7220   Median :  0.47032  \n",
      " Mean   : -0.4317   Mean   :  0.01988  \n",
      " 3rd Qu.:  7.6480   3rd Qu.:  7.19818  \n",
      " Max.   : 22.4956   Max.   : 29.35565  \n",
      "\n"
     ]
    }
   ],
   "source": [
    "# random generate\n",
    "n = 300\n",
    "x = np.random.normal(0, 10, n)\n",
    "y = np.random.normal(0, 10, n)\n",
    "\n",
    "# DataFrame\n",
    "df = pd.DataFrame({\"X\":x, \"Y\":y})\n",
    "\n",
    "r = pyper.R(use_pandas='True', use_numpy=\"True\")\n",
    "r.assign(\"p_df\", df)\n",
    "print(r(\"summary(p_df)\"))"
   ]
  },
  {
   "cell_type": "markdown",
   "metadata": {},
   "source": [
    "# 実践"
   ]
  },
  {
   "cell_type": "code",
   "execution_count": 3,
   "metadata": {},
   "outputs": [
    {
     "name": "stdout",
     "output_type": "stream",
     "text": [
      "try({view_data(iris)})\n",
      "Observations: 150\n",
      "Variables: 5\n",
      "$ Sepal.Length <dbl> 5.1, 4.9, 4.7, 4.6, 5.0, 5.4, 4.6, 5.0, 4.4, 4.9, 5.4, …\n",
      "$ Sepal.Width  <dbl> 3.5, 3.0, 3.2, 3.1, 3.6, 3.9, 3.4, 3.4, 2.9, 3.1, 3.7, …\n",
      "$ Petal.Length <dbl> 1.4, 1.4, 1.3, 1.5, 1.4, 1.7, 1.4, 1.5, 1.4, 1.5, 1.5, …\n",
      "$ Petal.Width  <dbl> 0.2, 0.2, 0.2, 0.2, 0.2, 0.4, 0.3, 0.2, 0.2, 0.1, 0.2, …\n",
      "$ Species      <fct> setosa, setosa, setosa, setosa, setosa, setosa, setosa,…\n",
      "\n"
     ]
    }
   ],
   "source": [
    "r = pyper.R(use_pandas='True')\n",
    "r(\"source('~/Desktop/TokyoR/script/function.R', echo=FALSE)\")\n",
    "print(r(\"view_data(iris)\"))"
   ]
  },
  {
   "cell_type": "code",
   "execution_count": 4,
   "metadata": {},
   "outputs": [
    {
     "name": "stdout",
     "output_type": "stream",
     "text": [
      "try({view_data(p_iris)})\n",
      "Observations: 150\n",
      "Variables: 4\n",
      "$ sepal.length..cm. <dbl> 5.1, 4.9, 4.7, 4.6, 5.0, 5.4, 4.6, 5.0, 4.4, 4.9, …\n",
      "$ sepal.width..cm.  <dbl> 3.5, 3.0, 3.2, 3.1, 3.6, 3.9, 3.4, 3.4, 2.9, 3.1, …\n",
      "$ petal.length..cm. <dbl> 1.4, 1.4, 1.3, 1.5, 1.4, 1.7, 1.4, 1.5, 1.4, 1.5, …\n",
      "$ petal.width..cm.  <dbl> 0.2, 0.2, 0.2, 0.2, 0.2, 0.4, 0.3, 0.2, 0.2, 0.1, …\n",
      "\n"
     ]
    }
   ],
   "source": [
    "from sklearn.datasets import load_iris\n",
    "iris = load_iris()\n",
    "iris = pd.DataFrame(data=iris.data, columns=iris.feature_names)\n",
    "\n",
    "r.assign(\"p_iris\", iris)\n",
    "print(r(\"view_data(p_iris)\"))"
   ]
  },
  {
   "cell_type": "code",
   "execution_count": null,
   "metadata": {},
   "outputs": [],
   "source": []
  }
 ],
 "metadata": {
  "kernelspec": {
   "display_name": "Python 3",
   "language": "python",
   "name": "python3"
  },
  "language_info": {
   "codemirror_mode": {
    "name": "ipython",
    "version": 3
   },
   "file_extension": ".py",
   "mimetype": "text/x-python",
   "name": "python",
   "nbconvert_exporter": "python",
   "pygments_lexer": "ipython3",
   "version": "3.7.1"
  },
  "toc": {
   "base_numbering": 1,
   "nav_menu": {},
   "number_sections": true,
   "sideBar": true,
   "skip_h1_title": false,
   "title_cell": "Table of Contents",
   "title_sidebar": "Contents",
   "toc_cell": false,
   "toc_position": {},
   "toc_section_display": true,
   "toc_window_display": false
  }
 },
 "nbformat": 4,
 "nbformat_minor": 2
}
